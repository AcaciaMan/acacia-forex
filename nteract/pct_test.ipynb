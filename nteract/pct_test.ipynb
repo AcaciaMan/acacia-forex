{
  "cells": [
    {
      "cell_type": "code",
      "source": [
        "import pandas as pd\n",
        "\n",
        "# Create a dictionary with the data\n",
        "data = {\n",
        "    'Year': [2022, 2022, 2023, 2023, 2024, 2024],\n",
        "    'EURUSD': [3, 5, 6, 8, 9, 1]\n",
        "}\n",
        "\n",
        "# Create the DataFrame\n",
        "df = pd.DataFrame(data)\n",
        "\n",
        "# Display the DataFrame\n",
        "print(df)"
      ],
      "outputs": [
        {
          "output_type": "stream",
          "name": "stdout",
          "text": [
            "   Year  EURUSD\n",
            "0  2022       3\n",
            "1  2022       5\n",
            "2  2023       6\n",
            "3  2023       8\n",
            "4  2024       9\n",
            "5  2024       1\n"
          ]
        }
      ],
      "execution_count": 1,
      "metadata": {
        "collapsed": true,
        "jupyter": {
          "source_hidden": false,
          "outputs_hidden": false
        },
        "nteract": {
          "transient": {
            "deleting": false
          }
        },
        "execution": {
          "iopub.status.busy": "2025-02-19T12:45:23.806Z",
          "iopub.execute_input": "2025-02-19T12:45:23.810Z",
          "iopub.status.idle": "2025-02-19T12:45:26.010Z",
          "shell.execute_reply": "2025-02-19T12:45:26.014Z"
        }
      }
    },
    {
      "cell_type": "code",
      "source": [
        "df_year = df.groupby(['Year']).last().reset_index()\n",
        "print(df_year)"
      ],
      "outputs": [
        {
          "output_type": "stream",
          "name": "stdout",
          "text": [
            "   Year  EURUSD\n",
            "0  2022       5\n",
            "1  2023       8\n",
            "2  2024       1\n"
          ]
        }
      ],
      "execution_count": 2,
      "metadata": {
        "collapsed": true,
        "jupyter": {
          "source_hidden": false,
          "outputs_hidden": false
        },
        "nteract": {
          "transient": {
            "deleting": false
          }
        },
        "execution": {
          "iopub.status.busy": "2025-02-19T12:46:43.084Z",
          "iopub.execute_input": "2025-02-19T12:46:43.088Z",
          "iopub.status.idle": "2025-02-19T12:46:43.435Z",
          "shell.execute_reply": "2025-02-19T12:46:43.439Z"
        }
      }
    },
    {
      "cell_type": "code",
      "source": [
        "df_pct = df_year.copy()\n",
        "df_pct['EURUSD'] = df_year['EURUSD'].pct_change()\n",
        "\n",
        "print(df_pct)"
      ],
      "outputs": [
        {
          "output_type": "stream",
          "name": "stdout",
          "text": [
            "   Year  EURUSD\n",
            "0  2022     NaN\n",
            "1  2023   0.600\n",
            "2  2024  -0.875\n"
          ]
        }
      ],
      "execution_count": 4,
      "metadata": {
        "collapsed": true,
        "jupyter": {
          "source_hidden": false,
          "outputs_hidden": false
        },
        "nteract": {
          "transient": {
            "deleting": false
          }
        },
        "execution": {
          "iopub.status.busy": "2025-02-19T12:53:09.060Z",
          "iopub.execute_input": "2025-02-19T12:53:09.063Z",
          "iopub.status.idle": "2025-02-19T12:53:09.068Z",
          "shell.execute_reply": "2025-02-19T12:53:09.076Z"
        }
      }
    }
  ],
  "metadata": {
    "kernel_info": {
      "name": "python3"
    },
    "language_info": {
      "name": "python",
      "version": "3.10.8",
      "mimetype": "text/x-python",
      "codemirror_mode": {
        "name": "ipython",
        "version": 3
      },
      "pygments_lexer": "ipython3",
      "nbconvert_exporter": "python",
      "file_extension": ".py"
    },
    "kernelspec": {
      "argv": [
        "C:\\Tools\\Python310\\python.exe",
        "-m",
        "ipykernel_launcher",
        "-f",
        "{connection_file}"
      ],
      "display_name": "Python 3 (ipykernel)",
      "language": "python",
      "metadata": {
        "debugger": true
      },
      "name": "python3"
    },
    "nteract": {
      "version": "0.28.0"
    }
  },
  "nbformat": 4,
  "nbformat_minor": 0
}